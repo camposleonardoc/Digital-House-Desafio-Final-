{
 "cells": [
  {
   "cell_type": "markdown",
   "metadata": {},
   "source": [
    " ### Desafio Final"
   ]
  },
  {
   "cell_type": "code",
   "execution_count": null,
   "metadata": {},
   "outputs": [],
   "source": [
    "import pandas as pd\n",
    "import numpy as np\n",
    "import re\n",
    "import matplotlib.pyplot as plt\n",
    "import seaborn as sns"
   ]
  },
  {
   "cell_type": "code",
   "execution_count": null,
   "metadata": {},
   "outputs": [],
   "source": [
    "## Graficacion"
   ]
  },
  {
   "cell_type": "code",
   "execution_count": null,
   "metadata": {},
   "outputs": [],
   "source": [
    "import geopandas as gpd\n",
    "from matplotlib import style\n",
    "import shapely as sh\n",
    "import random\n",
    "import folium"
   ]
  },
  {
   "cell_type": "code",
   "execution_count": null,
   "metadata": {},
   "outputs": [],
   "source": [
    "df3=pd.read_csv ('data_set_final.csv')\n",
    "df3.info()"
   ]
  },
  {
   "cell_type": "code",
   "execution_count": null,
   "metadata": {},
   "outputs": [],
   "source": [
    "df3.drop(columns=['Unnamed: 0','geometry'], inplace=True)"
   ]
  },
  {
   "cell_type": "code",
   "execution_count": null,
   "metadata": {},
   "outputs": [],
   "source": [
    "df3 = gpd.GeoDataFrame(df3, geometry=gpd.points_from_xy(df3.Longitud, df3.Latitud))"
   ]
  },
  {
   "cell_type": "code",
   "execution_count": null,
   "metadata": {},
   "outputs": [],
   "source": [
    "crs = {'init': 'epsg:4326'}\n",
    "df3 = gpd.GeoDataFrame(df3, crs=crs, geometry='geometry')"
   ]
  },
  {
   "cell_type": "code",
   "execution_count": null,
   "metadata": {},
   "outputs": [],
   "source": [
    "df3.info()"
   ]
  },
  {
   "cell_type": "code",
   "execution_count": null,
   "metadata": {},
   "outputs": [],
   "source": [
    "mapa = folium.Map([-38.4161, -63.6167], zoom_start=4, tiles='Stamen Toner',API_key='wrobstory.map-12345678')"
   ]
  },
  {
   "cell_type": "code",
   "execution_count": null,
   "metadata": {},
   "outputs": [],
   "source": [
    "TMDA = pd.read_csv('tmda.csv')  \n",
    "TMDA"
   ]
  },
  {
   "cell_type": "code",
   "execution_count": null,
   "metadata": {},
   "outputs": [],
   "source": [
    "TMDA['color'].unique()"
   ]
  },
  {
   "cell_type": "code",
   "execution_count": null,
   "metadata": {},
   "outputs": [],
   "source": [
    "from shapely import wkt\n",
    "TMDA['geometry'] = TMDA['geometry'].apply(wkt.loads)"
   ]
  },
  {
   "cell_type": "code",
   "execution_count": null,
   "metadata": {},
   "outputs": [],
   "source": [
    "crs = {'init': 'epsg:4326'}\n",
    "TMDA = gpd.GeoDataFrame(TMDA, crs=crs, geometry='geometry')"
   ]
  },
  {
   "cell_type": "code",
   "execution_count": null,
   "metadata": {},
   "outputs": [],
   "source": [
    "tmda16450585 = TMDA[TMDA['color']== 16450585]\n",
    "tmda16450585.describe()"
   ]
  },
  {
   "cell_type": "code",
   "execution_count": null,
   "metadata": {},
   "outputs": [],
   "source": [
    "tmda2751236 = TMDA[TMDA['color']== 2751236]\n",
    "tmda2751236.describe()"
   ]
  },
  {
   "cell_type": "code",
   "execution_count": null,
   "metadata": {},
   "outputs": [],
   "source": [
    "tmda2751236.crs"
   ]
  },
  {
   "cell_type": "code",
   "execution_count": null,
   "metadata": {},
   "outputs": [],
   "source": [
    "tmda1441236 = TMDA[TMDA['color']== 1441236]\n",
    "tmda1441236.describe()"
   ]
  },
  {
   "cell_type": "code",
   "execution_count": null,
   "metadata": {},
   "outputs": [],
   "source": [
    "tmda1377531 = TMDA[TMDA['color']== 1377531]\n",
    "tmda1377531.describe()"
   ]
  },
  {
   "cell_type": "code",
   "execution_count": null,
   "metadata": {},
   "outputs": [],
   "source": [
    "tmda15985925 = TMDA[TMDA['color']== 15985925]\n",
    "tmda15985925.describe()"
   ]
  },
  {
   "cell_type": "code",
   "execution_count": null,
   "metadata": {},
   "outputs": [],
   "source": [
    "style1 = {'fillColor': '#0000FF', 'color': '#0000FF'} #tmda16450585\n",
    "style2 = {'fillColor': '#8A2BE2', 'color': '#8A2BE2'} #tmda15985925\n",
    "style3 = {'fillColor': '#87CEFA', 'color': '#87CEFA'} #tmda2751236\n",
    "style4 = {'fillColor': '#FFD700', 'color': '#FFD700'} #tmda1377531\n",
    "style5 = {'fillColor': '#FF8C00', 'color': '#FF8C00'}#tmda1441236"
   ]
  },
  {
   "cell_type": "code",
   "execution_count": null,
   "metadata": {},
   "outputs": [],
   "source": [
    "folium.GeoJson(tmda16450585, name='Tramo', style_function=lambda x:style1 , tooltip=folium.features.GeoJsonTooltip(fields=['gid'], localize=True)).add_to(mapa)"
   ]
  },
  {
   "cell_type": "code",
   "execution_count": null,
   "metadata": {},
   "outputs": [],
   "source": [
    "folium.GeoJson(tmda15985925, name='Tramo', style_function=lambda x:style2 , tooltip=folium.features.GeoJsonTooltip(fields=['gid'], localize=True)).add_to(mapa)"
   ]
  },
  {
   "cell_type": "code",
   "execution_count": null,
   "metadata": {},
   "outputs": [],
   "source": [
    "folium.GeoJson(tmda2751236, name='Tramo', style_function=lambda x:style3 , tooltip=folium.features.GeoJsonTooltip(fields=['gid'], localize=True)).add_to(mapa)"
   ]
  },
  {
   "cell_type": "code",
   "execution_count": null,
   "metadata": {},
   "outputs": [],
   "source": [
    "folium.GeoJson(tmda1377531, name='Tramo', style_function=lambda x:style4 , tooltip=folium.features.GeoJsonTooltip(fields=['gid'], localize=True)).add_to(mapa)"
   ]
  },
  {
   "cell_type": "code",
   "execution_count": null,
   "metadata": {},
   "outputs": [],
   "source": [
    "folium.GeoJson(tmda1441236, name='Tramo', style_function=lambda x:style5 , tooltip=folium.features.GeoJsonTooltip(fields=['gid'], localize=True)).add_to(mapa)"
   ]
  },
  {
   "cell_type": "code",
   "execution_count": null,
   "metadata": {},
   "outputs": [],
   "source": [
    "lt = list(df3[\"Latitud\"]) \n",
    "ln = list(df3[\"Longitud\"]) \n",
    "et = list(df3['etiqueta']) \n",
    "code = list(df3['code'])"
   ]
  },
  {
   "cell_type": "code",
   "execution_count": null,
   "metadata": {},
   "outputs": [],
   "source": [
    "def color(etiqueta): \n",
    "    if et == 1: \n",
    "        return 'green' \n",
    "    else: \n",
    "        return 'red'"
   ]
  },
  {
   "cell_type": "code",
   "execution_count": null,
   "metadata": {},
   "outputs": [],
   "source": [
    "fga = folium.FeatureGroup(name=\"estaciones que superan los 500 m3\")"
   ]
  },
  {
   "cell_type": "code",
   "execution_count": null,
   "metadata": {},
   "outputs": [],
   "source": [
    "for lt, ln, et, code in zip(df3['Latitud'], df3['Longitud'], df3['etiqueta'], df3['code']):\n",
    "    folium.Marker(location=[lt,ln],popup = code, icon= folium.Icon(color=color(et))).add_to(mapa) "
   ]
  },
  {
   "cell_type": "code",
   "execution_count": null,
   "metadata": {},
   "outputs": [],
   "source": [
    "mapa"
   ]
  },
  {
   "cell_type": "code",
   "execution_count": null,
   "metadata": {},
   "outputs": [],
   "source": [
    "df2.apply(lambda row:folium.Marker(location=[row[\"Latitud\"], \n",
    "                                                  row[\"Longitud\"]], icon=folium.Icon(color='green'), popup=df2['Nro. Sec. Ener.']).add_to(mapa),\n",
    "         axis=1)\n",
    "mapa"
   ]
  },
  {
   "cell_type": "code",
   "execution_count": null,
   "metadata": {},
   "outputs": [],
   "source": [
    "lt = list(df3[\"Latitud\"]) ln = list(df3[\"Longitud\"]) et = list(df3['etiqueta']) code = list(df3['code'])\n",
    "\n",
    "def color(etiqueta): if et == 1: return 'green' else: return 'red'\n",
    "\n",
    "fga = folium.FeatureGroup(name=\"estaciones que superan los 500 m3\")\n",
    "\n",
    "for lt, ln, et, code in zip(df3['Latitud'], df3['Longitud'], df3['etiqueta'], df3['code']): folium.Marker(location=[lt,ln],popup = code, icon= folium.Icon(color=color(et))).add_to(mapa) mapa"
   ]
  }
 ],
 "metadata": {
  "kernelspec": {
   "display_name": "Python 3",
   "language": "python",
   "name": "python3"
  },
  "language_info": {
   "codemirror_mode": {
    "name": "ipython",
    "version": 3
   },
   "file_extension": ".py",
   "mimetype": "text/x-python",
   "name": "python",
   "nbconvert_exporter": "python",
   "pygments_lexer": "ipython3",
   "version": "3.7.6"
  }
 },
 "nbformat": 4,
 "nbformat_minor": 4
}
